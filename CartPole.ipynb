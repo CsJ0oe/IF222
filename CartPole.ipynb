{
  "nbformat": 4,
  "nbformat_minor": 0,
  "metadata": {
    "colab": {
      "name": "IF222 - Projet1.ipynb",
      "provenance": [],
      "collapsed_sections": []
    },
    "kernelspec": {
      "name": "python3",
      "display_name": "Python 3"
    }
  },
  "cells": [
    {
      "cell_type": "markdown",
      "metadata": {
        "id": "CTg0zaMog0O5",
        "colab_type": "text"
      },
      "source": [
        "# Agent Q-learning"
      ]
    },
    {
      "cell_type": "code",
      "metadata": {
        "id": "Sdi6Rkk82gWi",
        "colab_type": "code",
        "colab": {}
      },
      "source": [
        "import random\n",
        "\n",
        "class agent_q_learning:\n",
        "  def __init__(self, env):\n",
        "    self.action_size      = env.action_space()      # Nombre d'action possible\n",
        "    self.observation_size = env.observation_space() # Nombre d'états possibles\n",
        "    self.q  = {(s,a) : 0 for s in range(self.observation_size) for a in range(self.action_size)} # Les q-valeurs\n",
        "    self.epsilon = 1 # paramètre espilon\n",
        "    self.alpha   = 1 # paramètre alpha\n",
        "    self.gamma   = 1 # paramètre gamma\n",
        "\n",
        "  def reset(self):\n",
        "    self.alpha   = max(0.01,   self.alpha*0.995)\n",
        "    self.epsilon = max(0.01, self.epsilon*0.995)\n",
        "    return \n",
        "        \n",
        "  def play(self, s):\n",
        "    if (random.random() < self.epsilon):\n",
        "      return random.choice(range(self.action_size))\n",
        "    Q_max = -100000\n",
        "    for i in range(self.action_size):\n",
        "      if( self.q[(s,i)] > Q_max ):\n",
        "        Q_max = self.q[(s,i)]\n",
        "    indice_max = []\n",
        "    for i in range(self.action_size):\n",
        "      if( self.q[(s,i)] == Q_max ):\n",
        "        indice_max.append(i)\n",
        "    return random.choice(indice_max)\n",
        "        \n",
        "  def train(self,state,action,reward, next_state, done):\n",
        "    next_Q_max = -100000\n",
        "    for i in range(self.action_size):\n",
        "      if( self.q[(next_state,i)] > next_Q_max ):\n",
        "        next_Q_max = self.q[(next_state,i)]\n",
        "    self.q[(state,action)] += self.alpha * (reward + self.gamma*next_Q_max - self.q[(state,action)])\n",
        "    return"
      ],
      "execution_count": 0,
      "outputs": []
    },
    {
      "cell_type": "markdown",
      "metadata": {
        "id": "Ec3gzRp_g3fZ",
        "colab_type": "text"
      },
      "source": [
        "# Test code"
      ]
    },
    {
      "cell_type": "code",
      "metadata": {
        "id": "DXLgq4UE_asr",
        "colab_type": "code",
        "colab": {}
      },
      "source": [
        "import matplotlib.pyplot as plt\n",
        "\n",
        "average = 100\n",
        "def run(env,agent,episodes,render=True, tracer=False):\n",
        "  Y1 = []\n",
        "  Y2 = []\n",
        "  for i_episode in range(episodes):\n",
        "    agent.reset()\n",
        "    state = env.reset()\n",
        "    R = 0\n",
        "    for t in range(500+1):\n",
        "      if render:\n",
        "        env.render()\n",
        "      action = agent.play(state)\n",
        "      next_state, reward, done, info = env.step(action)\n",
        "      agent.train(state, action, reward, next_state, done)\n",
        "      state = next_state\n",
        "      R += reward\n",
        "      if done:\n",
        "        Y1 += [R]\n",
        "        tmp = min(average,i_episode+1)\n",
        "        moy = sum([Y1[-j] for j in range(1,tmp)])/tmp\n",
        "        Y2 += [moy]\n",
        "        #print(\"Ep {} / Ts {} / Rw {} / My {}\".format(i_episode,t+1,R,moy))\n",
        "        break\n",
        "  if tracer:\n",
        "    plt.plot(range(len(Y1)), Y1, 'b+')\n",
        "    plt.plot(range(len(Y2)), Y2, 'r-')\n",
        "    plt.show()\n",
        "    plt.close()\n",
        "    print (sum([Y1[-j] for j in range(1,average+1)])/(average))\n",
        "  env.close()"
      ],
      "execution_count": 0,
      "outputs": []
    },
    {
      "cell_type": "markdown",
      "metadata": {
        "id": "SHntZXXO0JMp",
        "colab_type": "text"
      },
      "source": [
        "#Environment"
      ]
    },
    {
      "cell_type": "code",
      "metadata": {
        "id": "NFkesws90Nuc",
        "colab_type": "code",
        "colab": {}
      },
      "source": [
        "class CartPoleEnv:\n",
        "\n",
        "  def __init__(self, org):\n",
        "    self.env = gym.make(org)\n",
        "\n",
        "  def action_space(self):\n",
        "    return 2\n",
        "\n",
        "  def observation_space(self):\n",
        "    return 18+1\n",
        "\n",
        "  def reset(self):\n",
        "    return self.box2int(self.env.reset())\n",
        "\n",
        "  def step(self, action):\n",
        "    next_state, reward, done, info = self.env.step(action)\n",
        "    \n",
        "    return self.box2int(next_state), reward, done, info\n",
        "\n",
        "  def render(self):\n",
        "    return self.env.render()\n",
        "\n",
        "  def close(self):\n",
        "    return self.env.close()\n",
        "  \n",
        "  def box2int(self,state_box):\n",
        "    pos   = state_box[0]\n",
        "    pos_v = state_box[1]\n",
        "    ang   = state_box[2]\n",
        "    ang_v = state_box[3]\n",
        "    res   = 0\n",
        "    if pos < -2.4 or pos > 2.4 or ang < -0.2094384 or ang > 0.2094384:\n",
        "      return 18\n",
        "    if   ang < -0.1047192   : res += 0\n",
        "    elif ang < -0.0174532   : res += 3\n",
        "    elif ang < 0 \t\t        : res += 6\n",
        "    elif ang < 0.0174532  \t: res += 9\n",
        "    elif ang < 0.1047192    : res += 12\n",
        "    else\t    \t\t\t        : res += 15\n",
        "    if   ang_v < -0.87266       : res += 0\n",
        "    elif ang_v < 0.87266        : res += 1\n",
        "    else                        : res += 2\n",
        "    return res"
      ],
      "execution_count": 0,
      "outputs": []
    },
    {
      "cell_type": "markdown",
      "metadata": {
        "id": "hgRh6PO2BML0",
        "colab_type": "text"
      },
      "source": [
        "# Run"
      ]
    },
    {
      "cell_type": "code",
      "metadata": {
        "id": "rhNJxaLBcDnw",
        "colab_type": "code",
        "outputId": "133e9a15-6cd9-49dc-bae9-100bd8d22b70",
        "colab": {
          "base_uri": "https://localhost:8080/",
          "height": 282
        }
      },
      "source": [
        "import gym\n",
        "\n",
        "env = CartPoleEnv('CartPole-v0')\n",
        "agent = agent_q_learning(env)\n",
        "run(env, agent,1000, False, True)"
      ],
      "execution_count": 11,
      "outputs": [
        {
          "output_type": "display_data",
          "data": {
            "image/png": "[encoded data removed]",
            "text/plain": [
              "<Figure size 432x288 with 1 Axes>"
            ]
          },
          "metadata": {
            "tags": [],
            "needs_background": "light"
          }
        },
        {
          "output_type": "stream",
          "text": [
            "200.0\n"
          ],
          "name": "stdout"
        }
      ]
    },
    {
      "cell_type": "code",
      "metadata": {
        "id": "nzoWgIeKaxj2",
        "colab_type": "code",
        "colab": {
          "base_uri": "https://localhost:8080/",
          "height": 282
        },
        "outputId": "d4a548b8-4c86-4ed3-af3f-5810d4e2682c"
      },
      "source": [
        "env = CartPoleEnv('CartPole-v1')\n",
        "agent = agent_q_learning(env)\n",
        "run(env, agent,1000, False, True)"
      ],
      "execution_count": 15,
      "outputs": [
        {
          "output_type": "display_data",
          "data": {
            "image/png": "[encoded data removed]",
            "text/plain": [
              "<Figure size 432x288 with 1 Axes>"
            ]
          },
          "metadata": {
            "tags": [],
            "needs_background": "light"
          }
        },
        {
          "output_type": "stream",
          "text": [
            "500.0\n"
          ],
          "name": "stdout"
        }
      ]
    }
  ]
}