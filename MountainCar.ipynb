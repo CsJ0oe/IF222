{
  "nbformat": 4,
  "nbformat_minor": 0,
  "metadata": {
    "colab": {
      "name": "IF222 - Projet2.ipynb",
      "provenance": [],
      "collapsed_sections": [
        "CTg0zaMog0O5",
        "Ec3gzRp_g3fZ",
        "DtidONuI1PHo"
      ]
    },
    "kernelspec": {
      "name": "python3",
      "display_name": "Python 3"
    }
  },
  "cells": [
    {
      "cell_type": "markdown",
      "metadata": {
        "id": "CTg0zaMog0O5",
        "colab_type": "text"
      },
      "source": [
        "# MDP"
      ]
    },
    {
      "cell_type": "code",
      "metadata": {
        "id": "Sdi6Rkk82gWi",
        "colab_type": "code",
        "colab": {}
      },
      "source": [
        "from IPython.display import clear_output\n",
        "\n",
        "## On réprésente un MDP comme une instance de la classe suivante\n",
        "class MDP:\n",
        "  def __init__(self):\n",
        "    self.states = []\n",
        "    self.actions = []\n",
        "    self.T = {} # un dictionnaire de type \"{(s,a,s') : proba de la transition(s,a,s')}\"\n",
        "    self.R = {} # un dictionnaire de type \"{(s,a,s') : récompense de la transition(s,a,s')}\"\n",
        "  \n",
        "## value iteration \n",
        "# INPUT : un MDP M, un facteur de dépréciation gamma et un nombre d'itérations B\n",
        "# OUTPUT : la fonction de valeur optimale, représentée comme un dictionnaire du type \"{state: V^*(state)}\"\n",
        "def value_iteration(M, gamma):\n",
        "    V = {s: 0 for s in M.states}\n",
        "    while(True):\n",
        "        var = 0\n",
        "        for s in V:\n",
        "            old = V[s]\n",
        "            V[s] = max([sum(([M.T[(s,a,s2)]*(M.R[(s,a,s2)] + gamma*V[s2]) for s2 in M.states])) for a in M.actions])\n",
        "            var += abs(V[s]-old)\n",
        "        if var/len(V) == 0:\n",
        "          break\n",
        "    return V\n",
        "\n",
        "## optimal policy\n",
        "# INPUT : un MDP M, la fonction de valeur optimal V^*, le facteur de dépréciation gamma\n",
        "# OUTPUT : une politique optimale, donnée comme un dictionnaire du type {state: action}\n",
        "def optimal_policy(M, V, gamma):\n",
        "    pi = {s:0 for s in M.states}\n",
        "    for s in M.states:\n",
        "        temp = [(sum([M.T[s,a,s2]*(M.R[s,a,s2] + gamma*V[s2]) for s2 in M.states]),a) for a in M.actions]\n",
        "        pi[s] = max(temp,key = lambda x: x[0])[1]\n",
        "    return pi"
      ],
      "execution_count": 0,
      "outputs": []
    },
    {
      "cell_type": "markdown",
      "metadata": {
        "id": "Ec3gzRp_g3fZ",
        "colab_type": "text"
      },
      "source": [
        "# Test code"
      ]
    },
    {
      "cell_type": "code",
      "metadata": {
        "id": "DXLgq4UE_asr",
        "colab_type": "code",
        "colab": {}
      },
      "source": [
        "import matplotlib.pyplot as plt\n",
        "\n",
        "def run(env, mdp, optimal, episodes, render=False, tracer=True):\n",
        "  Y1 = []\n",
        "  Y2 = []\n",
        "  for i_episode in range(episodes):\n",
        "    state = mdp.box_to_state(env.reset())\n",
        "    R = 0\n",
        "    for t in range(200):\n",
        "      if render:\n",
        "        env.render()\n",
        "      action = optimal[state]\n",
        "      next_state, reward, done, info = env.step(action)\n",
        "      state = mdp.box_to_state(next_state)\n",
        "      R += reward\n",
        "      if done:\n",
        "        Y1 += [R]\n",
        "        moy = sum([Y1[-j] for j in range(1,i_episode+1)])/(i_episode+1)\n",
        "        Y2 += [moy]\n",
        "        #print(\"Ep {} / Ts {} / Rw {} / My {}\".format(i_episode,t+1,R,moy))\n",
        "        break\n",
        "  if tracer:\n",
        "    plt.plot(range(len(Y1)), Y1, 'b+')\n",
        "    #plt.plot(range(len(Y2)), Y2, 'r-')\n",
        "    plt.show()\n",
        "    plt.close()\n",
        "    print (sum([Y1[j] for j in range(0,i_episode+1)])/(i_episode))\n",
        "  env.close()"
      ],
      "execution_count": 0,
      "outputs": []
    },
    {
      "cell_type": "markdown",
      "metadata": {
        "id": "hgRh6PO2BML0",
        "colab_type": "text"
      },
      "source": [
        "# MountainCar\n"
      ]
    },
    {
      "cell_type": "code",
      "metadata": {
        "id": "NZ4xZlgUyb9R",
        "colab_type": "code",
        "colab": {}
      },
      "source": [
        "import numpy as np\n",
        "import math\n",
        "\n",
        "min_position = -1.2\n",
        "max_position = 0.6\n",
        "max_speed = 0.07\n",
        "goal_position = 0.5\n",
        "force=0.001\n",
        "gravity=0.0025\n",
        "\n",
        "class MountainCarMDP:\n",
        "  def __init__(self, pos_size=9, vel_size=14, pos_samples=51, vel_samples=51):\n",
        "    self.pos_size = pos_size\n",
        "    self.vel_size = vel_size\n",
        "    self.pos_samples = pos_samples\n",
        "    self.vel_samples = vel_samples\n",
        "    self.pos_space = np.linspace(-1.2, 0.6, self.pos_size+1, endpoint=True)\n",
        "    self.vel_space = np.linspace(-0.07, 0.07, self.vel_size+1, endpoint=True)\n",
        "    self.states = [(i,j) for i in range(pos_size) for j in range(vel_size)] # (pos, vel)\n",
        "    self.actions = [0, 2]                                        \n",
        "    self.T = {(s,a,s2):0 for s in self.states for a in self.actions for s2 in self.states}\n",
        "    self.R = {(s,a,s2):0 for s in self.states for a in self.actions for s2 in self.states}\n",
        "    self.init_R()\n",
        "    self.init_T()\n",
        "\n",
        "  def box_to_state(self, box):\n",
        "    pos, vel = box\n",
        "    pos_bin = np.digitize(pos, self.pos_space, right=True)-1\n",
        "    if pos_bin < 0:\n",
        "      pos_bin = 0\n",
        "    vel_bin = np.digitize(vel, self.vel_space, right=True)-1\n",
        "    if vel_bin < 0:\n",
        "      vel_bin = 0\n",
        "    return (pos_bin, vel_bin)\n",
        "\n",
        "  def state_to_range(self, state):\n",
        "    pos, vel = state\n",
        "    return (self.pos_space[pos], self.pos_space[pos+1], self.vel_space[vel], self.vel_space[vel+1])\n",
        "\n",
        "  def init_R(self):\n",
        "    for state in self.states:\n",
        "      for next_state in self.states:  \n",
        "        for action in self.actions: \n",
        "          _, position, _, _ = self.state_to_range(next_state)\n",
        "          if ( position >= 0.5):\n",
        "            self.R[state,action,next_state] = 1\n",
        "\n",
        "  def init_T(self):\n",
        "    for state in self.states:    \n",
        "      pos_min, pos_max, vel_min, vel_max = self.state_to_range(state)\n",
        "      for state_tmp in [(s,a) for s in np.linspace(pos_min, pos_max, self.pos_samples) for a in np.linspace(vel_min, vel_max, self.vel_samples)]:\n",
        "        for action in self.actions: \n",
        "          position, velocity = state_tmp\n",
        "          velocity += (action-1)*force + math.cos(3*position)*(-gravity)\n",
        "          velocity = np.clip(velocity, -max_speed, max_speed)\n",
        "          position += velocity\n",
        "          position = np.clip(position, min_position, max_position)\n",
        "          if (position==min_position and velocity<0): velocity = 0\n",
        "          next_state = (position, velocity)\n",
        "          next_state = self.box_to_state(next_state)\n",
        "          self.T[state,action,next_state] += 1/(self.pos_samples*self.vel_samples)\n"
      ],
      "execution_count": 0,
      "outputs": []
    },
    {
      "cell_type": "markdown",
      "metadata": {
        "id": "owmmaFIgdRO9",
        "colab_type": "text"
      },
      "source": [
        "# Run"
      ]
    },
    {
      "cell_type": "code",
      "metadata": {
        "id": "0qpajG5Hc426",
        "colab_type": "code",
        "colab": {
          "base_uri": "https://localhost:8080/",
          "height": 34
        },
        "outputId": "91318fa8-305f-4935-e0df-bc0f7ba36f28"
      },
      "source": [
        "# position intervals\n",
        "np.linspace(-1.2, 0.6, 9+1)"
      ],
      "execution_count": 476,
      "outputs": [
        {
          "output_type": "execute_result",
          "data": {
            "text/plain": [
              "array([-1.2, -1. , -0.8, -0.6, -0.4, -0.2,  0. ,  0.2,  0.4,  0.6])"
            ]
          },
          "metadata": {
            "tags": []
          },
          "execution_count": 476
        }
      ]
    },
    {
      "cell_type": "code",
      "metadata": {
        "id": "v2MiTBcxCVLk",
        "colab_type": "code",
        "colab": {
          "base_uri": "https://localhost:8080/",
          "height": 122
        },
        "outputId": "933ed46f-3128-475e-ca89-c2c0dfbebeb4"
      },
      "source": [
        "# exemple of samples generated for a position interval\n",
        "np.linspace( 0.0, 0.2, 51)"
      ],
      "execution_count": 477,
      "outputs": [
        {
          "output_type": "execute_result",
          "data": {
            "text/plain": [
              "array([0.   , 0.004, 0.008, 0.012, 0.016, 0.02 , 0.024, 0.028, 0.032,\n",
              "       0.036, 0.04 , 0.044, 0.048, 0.052, 0.056, 0.06 , 0.064, 0.068,\n",
              "       0.072, 0.076, 0.08 , 0.084, 0.088, 0.092, 0.096, 0.1  , 0.104,\n",
              "       0.108, 0.112, 0.116, 0.12 , 0.124, 0.128, 0.132, 0.136, 0.14 ,\n",
              "       0.144, 0.148, 0.152, 0.156, 0.16 , 0.164, 0.168, 0.172, 0.176,\n",
              "       0.18 , 0.184, 0.188, 0.192, 0.196, 0.2  ])"
            ]
          },
          "metadata": {
            "tags": []
          },
          "execution_count": 477
        }
      ]
    },
    {
      "cell_type": "code",
      "metadata": {
        "id": "w_h5dfMGaBDQ",
        "colab_type": "code",
        "colab": {
          "base_uri": "https://localhost:8080/",
          "height": 52
        },
        "outputId": "e7c50336-fedd-4621-db63-6bc911fe5094"
      },
      "source": [
        "# velocity intervals\n",
        "np.linspace(-0.07, 0.07, 14+1)"
      ],
      "execution_count": 478,
      "outputs": [
        {
          "output_type": "execute_result",
          "data": {
            "text/plain": [
              "array([-0.07, -0.06, -0.05, -0.04, -0.03, -0.02, -0.01,  0.  ,  0.01,\n",
              "        0.02,  0.03,  0.04,  0.05,  0.06,  0.07])"
            ]
          },
          "metadata": {
            "tags": []
          },
          "execution_count": 478
        }
      ]
    },
    {
      "cell_type": "code",
      "metadata": {
        "id": "uAagxl6CCZ1C",
        "colab_type": "code",
        "colab": {
          "base_uri": "https://localhost:8080/",
          "height": 140
        },
        "outputId": "4c602a16-505d-4a92-8ff9-9dc0dfbf4d9e"
      },
      "source": [
        "# exemple of samples generated for a velocity interval\n",
        "np.linspace( 0.0 , 0.01, 51)"
      ],
      "execution_count": 479,
      "outputs": [
        {
          "output_type": "execute_result",
          "data": {
            "text/plain": [
              "array([0.    , 0.0002, 0.0004, 0.0006, 0.0008, 0.001 , 0.0012, 0.0014,\n",
              "       0.0016, 0.0018, 0.002 , 0.0022, 0.0024, 0.0026, 0.0028, 0.003 ,\n",
              "       0.0032, 0.0034, 0.0036, 0.0038, 0.004 , 0.0042, 0.0044, 0.0046,\n",
              "       0.0048, 0.005 , 0.0052, 0.0054, 0.0056, 0.0058, 0.006 , 0.0062,\n",
              "       0.0064, 0.0066, 0.0068, 0.007 , 0.0072, 0.0074, 0.0076, 0.0078,\n",
              "       0.008 , 0.0082, 0.0084, 0.0086, 0.0088, 0.009 , 0.0092, 0.0094,\n",
              "       0.0096, 0.0098, 0.01  ])"
            ]
          },
          "metadata": {
            "tags": []
          },
          "execution_count": 479
        }
      ]
    },
    {
      "cell_type": "code",
      "metadata": {
        "id": "VGHy2wOu1BEV",
        "colab_type": "code",
        "colab": {}
      },
      "source": [
        "MountainCar = MountainCarMDP(pos_size=9, vel_size=14, pos_samples=51, vel_samples=51)"
      ],
      "execution_count": 0,
      "outputs": []
    },
    {
      "cell_type": "code",
      "metadata": {
        "id": "ecdykKAtgdhn",
        "colab_type": "code",
        "colab": {}
      },
      "source": [
        "gamma = 0.9\n",
        "V = value_iteration(MountainCar, gamma)\n",
        "O = optimal_policy(MountainCar, V, gamma)"
      ],
      "execution_count": 0,
      "outputs": []
    },
    {
      "cell_type": "code",
      "metadata": {
        "id": "PcdQebpkvtyS",
        "colab_type": "code",
        "outputId": "d70648c9-fced-437c-844e-9d77ec1f237d",
        "colab": {
          "base_uri": "https://localhost:8080/",
          "height": 282
        }
      },
      "source": [
        "import gym\n",
        "env = gym.make('MountainCar-v0')\n",
        "run(env, MountainCar, O, 100)"
      ],
      "execution_count": 488,
      "outputs": [
        {
          "output_type": "display_data",
          "data": {
            "image/png": "[encoded data removed]",
            "text/plain": [
              "<Figure size 432x288 with 1 Axes>"
            ]
          },
          "metadata": {
            "tags": [],
            "needs_background": "light"
          }
        },
        {
          "output_type": "stream",
          "text": [
            "-137.73737373737373\n"
          ],
          "name": "stdout"
        }
      ]
    }
  ]
}